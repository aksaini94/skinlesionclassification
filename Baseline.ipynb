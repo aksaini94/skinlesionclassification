{
 "cells": [
  {
   "cell_type": "code",
   "execution_count": null,
   "metadata": {
    "collapsed": true
   },
   "outputs": [],
   "source": [
    "# Setting up\n",
    "from __future__ import print_function, division\n",
    "import os\n",
    "import numpy as np\n",
    "import torch\n",
    "import pandas as pd\n",
    "from skimage import io, transform\n",
    "\n",
    "import matplotlib.pyplot as plt\n",
    "from torch.utils.data import Dataset, DataLoader\n",
    "from torchvision import transforms, utils\n",
    "\n",
    "from data_loading import *\n",
    "\n",
    "train = SkinLesionDataset(csv_file='../datasets/ISIC-2017_Training_Part3_GroundTruth.csv',\n",
    "                                    root_dir='../datasets/ISIC-2017_Training_Data/', transform = transforms.ToTensor())\n",
    "validation  = SkinLesionDataset(csv_file='../datasets/ISIC-2017_Validation_Part3_GroundTruth.csv',\n",
    "                                    root_dir='../datasets/ISIC-2017_Validation_Data/', transform = transforms.ToTensor())\n",
    "test = SkinLesionDataset(csv_file='../datasets/ISIC-2017_Test_v2_Part3_GroundTruth.csv',\n",
    "                                    root_dir='../datasets/ISIC-2017_Test_v2__Data/', transform = transforms.ToTensor())"
   ]
  },
  {
   "cell_type": "code",
   "execution_count": null,
   "metadata": {
    "collapsed": true
   },
   "outputs": [],
   "source": [
    "# Vizualizing some images\n",
    "\n",
    "for i in range(len(face_dataset)):\n",
    "    sample = face_dataset[i]\n",
    "    #print(sample['image'])\n",
    "    print(i, sample['image'].shape, sample['class1'], sample['class2'])\n",
    "\n",
    "    ax = plt.subplot(1, 4, i + 1)\n",
    "    plt.tight_layout()\n",
    "    ax.set_title('Sample #{}'.format(i))\n",
    "    ax.axis('off')\n",
    "    #show_landmarks(sample['image'])\n",
    "\n",
    "    #plt.show()\n",
    "    if i == 3:\n",
    "        plt.show()\n",
    "        break\n",
    "    plt.pause(10)\n"
   ]
  },
  {
   "cell_type": "code",
   "execution_count": null,
   "metadata": {
    "collapsed": true
   },
   "outputs": [],
   "source": []
  }
 ],
 "metadata": {
  "kernelspec": {
   "display_name": "Python 2",
   "language": "python",
   "name": "python2"
  },
  "language_info": {
   "codemirror_mode": {
    "name": "ipython",
    "version": 2
   },
   "file_extension": ".py",
   "mimetype": "text/x-python",
   "name": "python",
   "nbconvert_exporter": "python",
   "pygments_lexer": "ipython2",
   "version": "2.7.13"
  }
 },
 "nbformat": 4,
 "nbformat_minor": 2
}
